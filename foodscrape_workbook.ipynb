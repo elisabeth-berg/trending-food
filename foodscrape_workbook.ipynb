{
 "cells": [
  {
   "cell_type": "code",
   "execution_count": 1,
   "metadata": {
    "collapsed": true
   },
   "outputs": [],
   "source": [
    "import numpy as np\n",
    "import pandas as pd\n",
    "from bs4 import BeautifulSoup\n",
    "import requests"
   ]
  },
  {
   "cell_type": "code",
   "execution_count": 21,
   "metadata": {
    "collapsed": true
   },
   "outputs": [],
   "source": [
    "def get_urls(page):\n",
    "    '''\n",
    "    INPUT: page number\n",
    "    OUTPUT: list of urls of recipes on this page\n",
    "    \n",
    "    Find the permalink for each recipe on a given page of https://food52.com\n",
    "    '''\n",
    "    response = requests.get(\"https://food52.com/recipes?page={}\".format(page))\n",
    "    soup = BeautifulSoup(response.text, \"html.parser\")\n",
    "    posts = soup.find_all(\"div\", {\"class\" : \"photo-block\"})\n",
    "    urls = [post.find('a')['href'] for post in posts]\n",
    "    return urls    "
   ]
  },
  {
   "cell_type": "code",
   "execution_count": 23,
   "metadata": {},
   "outputs": [],
   "source": [
    "urls = get_urls(1)"
   ]
  },
  {
   "cell_type": "code",
   "execution_count": 42,
   "metadata": {
    "collapsed": true
   },
   "outputs": [],
   "source": [
    "def get_ingredients(href):\n",
    "    '''\n",
    "    INPUT: href for a Food52 recipe's permalink\n",
    "    OUTPUT: \n",
    "    '''\n",
    "    response = requests.get(\"https://food52.com/\" + href)\n",
    "    soup = BeautifulSoup(response.text, \"html.parser\")\n",
    "    ingredients = soup.find_all(\"span\", {\"class\" : \"recipe-list-item-name\"})\n",
    "    title = soup.find(\"h1\", {\"class\" : \"article-header-title\"})\n",
    "    title = title.text.strip()\n",
    "    title = title.replace('\\xa0', ' ')\n",
    "    foods = [food.text.strip() for food in ingredients]\n",
    "    return (title, foods)"
   ]
  },
  {
   "cell_type": "code",
   "execution_count": 44,
   "metadata": {},
   "outputs": [
    {
     "data": {
      "text/plain": [
       "('Black Olive Cookies',\n",
       " ['cup sugar, plus more, for coating',\n",
       "  'tablespoons grated or microplaned orange zest, preferably organic',\n",
       "  'cups all-purpose flour',\n",
       "  'cup oil-cured black olives, pitted and chopped (about 1/3 cup chopped)',\n",
       "  'teaspoon baking powder',\n",
       "  'teaspoon kosher salt',\n",
       "  'large egg',\n",
       "  'cup extra-virgin olive oil'])"
      ]
     },
     "execution_count": 44,
     "metadata": {},
     "output_type": "execute_result"
    }
   ],
   "source": [
    "get_ingredients(urls[3])"
   ]
  },
  {
   "cell_type": "code",
   "execution_count": null,
   "metadata": {
    "collapsed": true
   },
   "outputs": [],
   "source": []
  }
 ],
 "metadata": {
  "kernelspec": {
   "display_name": "Python 3",
   "language": "python",
   "name": "python3"
  },
  "language_info": {
   "codemirror_mode": {
    "name": "ipython",
    "version": 3
   },
   "file_extension": ".py",
   "mimetype": "text/x-python",
   "name": "python",
   "nbconvert_exporter": "python",
   "pygments_lexer": "ipython3",
   "version": "3.6.3"
  }
 },
 "nbformat": 4,
 "nbformat_minor": 2
}
