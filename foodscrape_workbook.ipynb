{
 "cells": [
  {
   "cell_type": "code",
   "execution_count": 1,
   "metadata": {
    "collapsed": true
   },
   "outputs": [],
   "source": [
    "import numpy as np\n",
    "import pandas as pd\n",
    "from bs4 import BeautifulSoup\n",
    "import requests"
   ]
  },
  {
   "cell_type": "code",
   "execution_count": 21,
   "metadata": {
    "collapsed": true
   },
   "outputs": [],
   "source": [
    "def get_urls(page):\n",
    "    '''\n",
    "    INPUT: page number\n",
    "    OUTPUT: list of urls of recipes on this page\n",
    "    \n",
    "    Find the permalink for each recipe on a given page of https://food52.com\n",
    "    '''\n",
    "    response = requests.get(\"https://food52.com/recipes?page={}\".format(page))\n",
    "    soup = BeautifulSoup(response.text, \"html.parser\")\n",
    "    posts = soup.find_all(\"div\", {\"class\" : \"photo-block\"})\n",
    "    urls = [post.find('a')['href'] for post in posts]\n",
    "    return urls    "
   ]
  },
  {
   "cell_type": "code",
   "execution_count": 23,
   "metadata": {},
   "outputs": [],
   "source": [
    "urls = get_urls(1)"
   ]
  },
  {
   "cell_type": "code",
   "execution_count": 64,
   "metadata": {
    "collapsed": true
   },
   "outputs": [],
   "source": [
    "def get_ingredients(href):\n",
    "    '''\n",
    "    INPUT: href for a Food52 recipe's permalink\n",
    "    OUTPUT: \n",
    "    '''\n",
    "    response = requests.get(\"https://food52.com/\" + href)\n",
    "    soup = BeautifulSoup(response.text, \"html.parser\")\n",
    "    ingredients = soup.find_all(\"span\", {\"class\" : \"recipe-list-item-name\"})\n",
    "    title = soup.find(\"h1\", {\"class\" : \"article-header-title\"})\n",
    "    title = title.text.strip()\n",
    "    title = title.replace('\\xa0', ' ')\n",
    "    date = soup.find(\"p\", {'data-bind' :\"with: comments\"}).text.split(\"\\n\")[1].strip()[2:]\n",
    "    date = pd.to_datetime(date)\n",
    "    foods = [food.text.strip() for food in ingredients]\n",
    "    return (date, title, foods)"
   ]
  },
  {
   "cell_type": "code",
   "execution_count": 65,
   "metadata": {},
   "outputs": [
    {
     "data": {
      "text/plain": [
       "(Timestamp('2018-02-07 00:00:00'),\n",
       " 'Angel Wings (Faworki)',\n",
       " ['cups ll-purpose flour, plus extra for dusting',\n",
       "  'teaspoon baking powder',\n",
       "  'tablespoons confectioner’s sugar',\n",
       "  'Pinch sea salt',\n",
       "  'tablespoon butter, melted',\n",
       "  'egg yolks',\n",
       "  'tablespoons vodka',\n",
       "  'sour cream',\n",
       "  'teaspoon vanilla bean paste or extract, optional',\n",
       "  'tablespoon grated lemon zest, optional',\n",
       "  'cups vegetable oil for frying',\n",
       "  'Confectioner’s sugar for serving'])"
      ]
     },
     "execution_count": 65,
     "metadata": {},
     "output_type": "execute_result"
    }
   ],
   "source": [
    "get_ingredients(urls[0])"
   ]
  },
  {
   "cell_type": "code",
   "execution_count": 49,
   "metadata": {},
   "outputs": [],
   "source": [
    "response = requests.get(\"https://food52.com/\" + urls[3])"
   ]
  },
  {
   "cell_type": "code",
   "execution_count": 50,
   "metadata": {
    "collapsed": true
   },
   "outputs": [],
   "source": [
    "soup = BeautifulSoup(response.text, \"html.parser\")"
   ]
  },
  {
   "cell_type": "code",
   "execution_count": 63,
   "metadata": {},
   "outputs": [
    {
     "data": {
      "text/plain": [
       "Timestamp('2018-02-05 00:00:00')"
      ]
     },
     "execution_count": 63,
     "metadata": {},
     "output_type": "execute_result"
    }
   ],
   "source": [
    "date = soup.find(\"p\", {'data-bind' :\"with: comments\"}).text.split(\"\\n\")[1].strip()[2:]\n",
    "pd.to_datetime(date)"
   ]
  },
  {
   "cell_type": "code",
   "execution_count": null,
   "metadata": {
    "collapsed": true
   },
   "outputs": [],
   "source": [
    "<p data-bind=\"with: comments\" class=\"article-header-meta meta\"><em>By</em> <a itemprop=\"author\" href=\"https://food52.com/users/926650-ren-behan\">Ren Behan</a>\n",
    "          • February  7, 2018\n",
    "          <a href=\"#comments\" title=\"View comments\" class=\"comment-link\">\n",
    "            <em>•</em>\n",
    "            <span data-bind=\"text:totalCommentsCount\">0</span>\n",
    "            <span data-bind=\"text:totalCommentsCount() == 1 ? 'Comment' : 'Comments'\">Comments</span>\n",
    "          </a>\n",
    "        </p>"
   ]
  }
 ],
 "metadata": {
  "kernelspec": {
   "display_name": "Python 3",
   "language": "python",
   "name": "python3"
  },
  "language_info": {
   "codemirror_mode": {
    "name": "ipython",
    "version": 3
   },
   "file_extension": ".py",
   "mimetype": "text/x-python",
   "name": "python",
   "nbconvert_exporter": "python",
   "pygments_lexer": "ipython3",
   "version": "3.6.3"
  }
 },
 "nbformat": 4,
 "nbformat_minor": 2
}
