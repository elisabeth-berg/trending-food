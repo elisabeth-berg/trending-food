{
 "cells": [
  {
   "cell_type": "code",
   "execution_count": 2,
   "metadata": {},
   "outputs": [],
   "source": [
    "import pandas as pd  \n",
    "df = pd.read_pickle('data/featured_recipes.pkl')  "
   ]
  },
  {
   "cell_type": "code",
   "execution_count": 3,
   "metadata": {},
   "outputs": [
    {
     "data": {
      "text/html": [
       "<div>\n",
       "<style scoped>\n",
       "    .dataframe tbody tr th:only-of-type {\n",
       "        vertical-align: middle;\n",
       "    }\n",
       "\n",
       "    .dataframe tbody tr th {\n",
       "        vertical-align: top;\n",
       "    }\n",
       "\n",
       "    .dataframe thead th {\n",
       "        text-align: right;\n",
       "    }\n",
       "</style>\n",
       "<table border=\"1\" class=\"dataframe\">\n",
       "  <thead>\n",
       "    <tr style=\"text-align: right;\">\n",
       "      <th></th>\n",
       "      <th>id</th>\n",
       "      <th>post_date</th>\n",
       "      <th>title</th>\n",
       "      <th>foods</th>\n",
       "      <th>food_stems</th>\n",
       "    </tr>\n",
       "  </thead>\n",
       "  <tbody>\n",
       "    <tr>\n",
       "      <th>0</th>\n",
       "      <td>27</td>\n",
       "      <td>2018-02-09</td>\n",
       "      <td>Long Life Noodles with Shrimp and Greens</td>\n",
       "      <td>teaspoon sesame oil, for drizzling stalk green...</td>\n",
       "      <td>[sesam, oil, stalk, onion, carrot, stalk, onio...</td>\n",
       "    </tr>\n",
       "    <tr>\n",
       "      <th>1</th>\n",
       "      <td>28</td>\n",
       "      <td>2018-02-09</td>\n",
       "      <td>Ginger-Onion Whole Steamed Fish</td>\n",
       "      <td>stalks green onions, cut into 3-inch segments,...</td>\n",
       "      <td>[stalk, onion, segment, wine, marsala, wine, o...</td>\n",
       "    </tr>\n",
       "    <tr>\n",
       "      <th>2</th>\n",
       "      <td>29</td>\n",
       "      <td>2018-02-09</td>\n",
       "      <td>Smacked Cucumber</td>\n",
       "      <td>teaspoon sugar cloves garlic, crushed tablespo...</td>\n",
       "      <td>[sugar, clove, flake, chili, cucumb, cucumb, v...</td>\n",
       "    </tr>\n",
       "    <tr>\n",
       "      <th>3</th>\n",
       "      <td>30</td>\n",
       "      <td>2018-02-08</td>\n",
       "      <td>Neck Bones and Lima Beans</td>\n",
       "      <td>salt and pepper, to taste tablespoons canola o...</td>\n",
       "      <td>[oil, sage, lima, bean, water, nutmeg, onion, ...</td>\n",
       "    </tr>\n",
       "    <tr>\n",
       "      <th>4</th>\n",
       "      <td>31</td>\n",
       "      <td>2018-02-07</td>\n",
       "      <td>Angel Wings (Faworki)</td>\n",
       "      <td>pinch sea salt confectioner’s sugar for servin...</td>\n",
       "      <td>[sea, confection, cream, egg, yolk, powder, co...</td>\n",
       "    </tr>\n",
       "  </tbody>\n",
       "</table>\n",
       "</div>"
      ],
      "text/plain": [
       "   id  post_date                                     title  \\\n",
       "0  27 2018-02-09  Long Life Noodles with Shrimp and Greens   \n",
       "1  28 2018-02-09           Ginger-Onion Whole Steamed Fish   \n",
       "2  29 2018-02-09                          Smacked Cucumber   \n",
       "3  30 2018-02-08                 Neck Bones and Lima Beans   \n",
       "4  31 2018-02-07                     Angel Wings (Faworki)   \n",
       "\n",
       "                                               foods  \\\n",
       "0  teaspoon sesame oil, for drizzling stalk green...   \n",
       "1  stalks green onions, cut into 3-inch segments,...   \n",
       "2  teaspoon sugar cloves garlic, crushed tablespo...   \n",
       "3  salt and pepper, to taste tablespoons canola o...   \n",
       "4  pinch sea salt confectioner’s sugar for servin...   \n",
       "\n",
       "                                          food_stems  \n",
       "0  [sesam, oil, stalk, onion, carrot, stalk, onio...  \n",
       "1  [stalk, onion, segment, wine, marsala, wine, o...  \n",
       "2  [sugar, clove, flake, chili, cucumb, cucumb, v...  \n",
       "3  [oil, sage, lima, bean, water, nutmeg, onion, ...  \n",
       "4  [sea, confection, cream, egg, yolk, powder, co...  "
      ]
     },
     "execution_count": 3,
     "metadata": {},
     "output_type": "execute_result"
    }
   ],
   "source": [
    "df.head()"
   ]
  },
  {
   "cell_type": "code",
   "execution_count": null,
   "metadata": {},
   "outputs": [],
   "source": []
  }
 ],
 "metadata": {
  "kernelspec": {
   "display_name": "Python 3",
   "language": "python",
   "name": "python3"
  },
  "language_info": {
   "codemirror_mode": {
    "name": "ipython",
    "version": 3
   },
   "file_extension": ".py",
   "mimetype": "text/x-python",
   "name": "python",
   "nbconvert_exporter": "python",
   "pygments_lexer": "ipython3",
   "version": "3.6.4"
  }
 },
 "nbformat": 4,
 "nbformat_minor": 2
}
