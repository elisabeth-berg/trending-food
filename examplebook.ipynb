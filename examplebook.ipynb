{
 "cells": [
  {
   "cell_type": "code",
   "execution_count": 5,
   "metadata": {
    "collapsed": true
   },
   "outputs": [],
   "source": [
    "import numpy as np\n",
    "import pandas as pd\n",
    "import matplotlib.pyplot as plt\n",
    "%matplotlib inline\n",
    "from nltk.stem.porter import PorterStemmer"
   ]
  },
  {
   "cell_type": "code",
   "execution_count": 3,
   "metadata": {
    "collapsed": true
   },
   "outputs": [],
   "source": [
    "import pandas as pd  \n",
    "df = pd.read_pickle('data/featured_recipes.pkl')  "
   ]
  },
  {
   "cell_type": "code",
   "execution_count": 4,
   "metadata": {},
   "outputs": [
    {
     "data": {
      "text/html": [
       "<div>\n",
       "<style scoped>\n",
       "    .dataframe tbody tr th:only-of-type {\n",
       "        vertical-align: middle;\n",
       "    }\n",
       "\n",
       "    .dataframe tbody tr th {\n",
       "        vertical-align: top;\n",
       "    }\n",
       "\n",
       "    .dataframe thead th {\n",
       "        text-align: right;\n",
       "    }\n",
       "</style>\n",
       "<table border=\"1\" class=\"dataframe\">\n",
       "  <thead>\n",
       "    <tr style=\"text-align: right;\">\n",
       "      <th></th>\n",
       "      <th>id</th>\n",
       "      <th>post_date</th>\n",
       "      <th>title</th>\n",
       "      <th>foods</th>\n",
       "      <th>food_stems</th>\n",
       "    </tr>\n",
       "  </thead>\n",
       "  <tbody>\n",
       "    <tr>\n",
       "      <th>0</th>\n",
       "      <td>27</td>\n",
       "      <td>2018-02-09</td>\n",
       "      <td>Long Life Noodles with Shrimp and Greens</td>\n",
       "      <td>teaspoon sesame oil, for drizzling stalk green...</td>\n",
       "      <td>[sesam, oil, stalk, onion, carrot, stalk, onio...</td>\n",
       "    </tr>\n",
       "    <tr>\n",
       "      <th>1</th>\n",
       "      <td>28</td>\n",
       "      <td>2018-02-09</td>\n",
       "      <td>Ginger-Onion Whole Steamed Fish</td>\n",
       "      <td>stalks green onions, cut into 3-inch segments,...</td>\n",
       "      <td>[stalk, onion, segment, wine, marsala, wine, o...</td>\n",
       "    </tr>\n",
       "    <tr>\n",
       "      <th>2</th>\n",
       "      <td>29</td>\n",
       "      <td>2018-02-09</td>\n",
       "      <td>Smacked Cucumber</td>\n",
       "      <td>teaspoon sugar cloves garlic, crushed tablespo...</td>\n",
       "      <td>[sugar, clove, flake, chili, cucumb, cucumb, v...</td>\n",
       "    </tr>\n",
       "    <tr>\n",
       "      <th>3</th>\n",
       "      <td>30</td>\n",
       "      <td>2018-02-08</td>\n",
       "      <td>Neck Bones and Lima Beans</td>\n",
       "      <td>salt and pepper, to taste tablespoons canola o...</td>\n",
       "      <td>[oil, sage, lima, bean, water, nutmeg, onion, ...</td>\n",
       "    </tr>\n",
       "    <tr>\n",
       "      <th>4</th>\n",
       "      <td>31</td>\n",
       "      <td>2018-02-07</td>\n",
       "      <td>Angel Wings (Faworki)</td>\n",
       "      <td>pinch sea salt confectioner’s sugar for servin...</td>\n",
       "      <td>[sea, confection, cream, egg, yolk, powder, co...</td>\n",
       "    </tr>\n",
       "  </tbody>\n",
       "</table>\n",
       "</div>"
      ],
      "text/plain": [
       "   id  post_date                                     title  \\\n",
       "0  27 2018-02-09  Long Life Noodles with Shrimp and Greens   \n",
       "1  28 2018-02-09           Ginger-Onion Whole Steamed Fish   \n",
       "2  29 2018-02-09                          Smacked Cucumber   \n",
       "3  30 2018-02-08                 Neck Bones and Lima Beans   \n",
       "4  31 2018-02-07                     Angel Wings (Faworki)   \n",
       "\n",
       "                                               foods  \\\n",
       "0  teaspoon sesame oil, for drizzling stalk green...   \n",
       "1  stalks green onions, cut into 3-inch segments,...   \n",
       "2  teaspoon sugar cloves garlic, crushed tablespo...   \n",
       "3  salt and pepper, to taste tablespoons canola o...   \n",
       "4  pinch sea salt confectioner’s sugar for servin...   \n",
       "\n",
       "                                          food_stems  \n",
       "0  [sesam, oil, stalk, onion, carrot, stalk, onio...  \n",
       "1  [stalk, onion, segment, wine, marsala, wine, o...  \n",
       "2  [sugar, clove, flake, chili, cucumb, cucumb, v...  \n",
       "3  [oil, sage, lima, bean, water, nutmeg, onion, ...  \n",
       "4  [sea, confection, cream, egg, yolk, powder, co...  "
      ]
     },
     "execution_count": 4,
     "metadata": {},
     "output_type": "execute_result"
    }
   ],
   "source": [
    "df.head()"
   ]
  },
  {
   "cell_type": "code",
   "execution_count": 62,
   "metadata": {},
   "outputs": [],
   "source": [
    "def yearly_food_plot(df, food, path=None, save=False):\n",
    "    porter = PorterStemmer()\n",
    "    food_stem = porter.stem(food.lower())\n",
    "    dates = df.loc[[i for i in df.index if food_stem in df.loc[i, 'food_stems']], ['id', 'post_date']]\n",
    "    dates.index = dates['post_date']\n",
    "    dates['food_counts'] = np.ones(len(dates))\n",
    "\n",
    "    dates_all = df[['id', 'post_date']]\n",
    "    dates_all.index = dates_all['post_date']\n",
    "    dates_all['total_counts'] = np.ones(len(dates_all))\n",
    "\n",
    "    months = np.array(range(1, 13))\n",
    "    mo_counts = np.zeros((len(range(2009, 2018)), len(months)))\n",
    "    mo_counts_all = np.zeros((len(range(2009, 2018)), len(months)))\n",
    "    \n",
    "    fig, ax = plt.subplots(figsize=(10, 5))\n",
    "    \n",
    "    for i, year in enumerate(range(2009, 2018)):\n",
    "        year = str(year)\n",
    "        d1 = dates[year].resample('1M').sum()\n",
    "        d2 = dates_all[year].resample('1M').sum()\n",
    "        counts = d1[['food_counts']].join(d2[['total_counts']], how='left')\n",
    "        counts.fillna(0, inplace=True)\n",
    "        counts['percentage'] = counts['food_counts'] / counts['total_counts']\n",
    "        counts['mos'] = [date.month for date in counts['food_counts'].index]\n",
    "        mo_counts[i][counts['mos'] -1] = counts['percentage']\n",
    "        ax.plot(months, mo_counts[i],\n",
    "            linewidth=2,\n",
    "            color=plt.cm.cool(10 + i*30),\n",
    "            alpha=0.3,\n",
    "            label=year)\n",
    "             \n",
    "    avg_counts = np.mean(mo_counts, axis=0)\n",
    "    ax.plot(months, avg_counts, linewidth=4, color='blue')\n",
    "    ax.set_xlim([0, 15])\n",
    "    ax.set_xticks([1, 2, 3, 4, 5, 6, 7, 8, 9, 10, 11, 12])\n",
    "    ax.set_xticklabels(['Jan', 'Feb', 'Mar', 'Apr', 'May', 'Jun',\n",
    "                        'Jul', 'Aug', 'Sep', 'Oct', 'Nov', 'Dec'])\n",
    "    ax.set_title('Average Yearly Popularity of {}'.format(food))\n",
    "    ax.set_xlabel('Month')\n",
    "    ax.legend()\n",
    "    if save:\n",
    "        fig.savefig(path)\n",
    "    return mo_counts\n"
   ]
  },
  {
   "cell_type": "code",
   "execution_count": 65,
   "metadata": {},
   "outputs": [
    {
     "name": "stderr",
     "output_type": "stream",
     "text": [
      "/Users/lizberg/anaconda2/envs/py36/lib/python3.6/site-packages/ipykernel_launcher.py:10: SettingWithCopyWarning: \n",
      "A value is trying to be set on a copy of a slice from a DataFrame.\n",
      "Try using .loc[row_indexer,col_indexer] = value instead\n",
      "\n",
      "See the caveats in the documentation: http://pandas.pydata.org/pandas-docs/stable/indexing.html#indexing-view-versus-copy\n",
      "  # Remove the CWD from sys.path while we load stuff.\n"
     ]
    },
    {
     "data": {
      "image/png": "[encoded data removed]",
      "text/plain": [
       "<matplotlib.figure.Figure at 0x10d1234e0>"
      ]
     },
     "metadata": {},
     "output_type": "display_data"
    }
   ],
   "source": [
    "mo_counts = yearly_food_plot(df, 'cinnamon')"
   ]
  },
  {
   "cell_type": "code",
   "execution_count": null,
   "metadata": {
    "collapsed": true
   },
   "outputs": [],
   "source": []
  },
  {
   "cell_type": "code",
   "execution_count": 57,
   "metadata": {},
   "outputs": [
    {
     "data": {
      "text/plain": [
       "array([[ 0.        ,  0.        ,  0.        ,  0.        ,  0.        ,\n",
       "         0.        ,  0.        ,  0.        ,  0.02325581,  0.11904762,\n",
       "         0.        ,  0.17241379],\n",
       "       [ 0.04255319,  0.025     ,  0.05172414,  0.        ,  0.        ,\n",
       "         0.        ,  0.        ,  0.        ,  0.        ,  0.        ,\n",
       "         0.04444444,  0.08163265],\n",
       "       [ 0.04545455,  0.24390244,  0.025     ,  0.06      ,  0.01818182,\n",
       "         0.11111111,  0.        ,  0.02564103,  0.        ,  0.13043478,\n",
       "         0.        ,  0.07142857],\n",
       "       [ 0.        ,  0.22727273,  0.        ,  0.12      ,  0.        ,\n",
       "         0.08108108,  0.        ,  0.06451613,  0.03448276,  0.        ,\n",
       "         0.0625    ,  0.07142857],\n",
       "       [ 0.02857143,  0.05714286,  0.0625    ,  0.04081633,  0.10416667,\n",
       "         0.06521739,  0.04545455,  0.06349206,  0.01666667,  0.08219178,\n",
       "         0.03030303,  0.14545455],\n",
       "       [ 0.0483871 ,  0.06153846,  0.12068966,  0.02985075,  0.04464286,\n",
       "         0.01587302,  0.02197802,  0.05384615,  0.06944444,  0.06930693,\n",
       "         0.08974359,  0.17924528],\n",
       "       [ 0.05813953,  0.0462963 ,  0.03636364,  0.07407407,  0.04098361,\n",
       "         0.08510638,  0.10576923,  0.05813953,  0.09      ,  0.09722222,\n",
       "         0.12820513,  0.09090909],\n",
       "       [ 0.12962963,  0.04166667,  0.06153846,  0.09      ,  0.02325581,\n",
       "         0.08196721,  0.07894737,  0.06140351,  0.07142857,  0.12727273,\n",
       "         0.125     ,  0.13265306],\n",
       "       [ 0.2195122 ,  0.05555556,  0.05263158,  0.03703704,  0.05      ,\n",
       "         0.05882353,  0.        ,  0.09090909,  0.02702703,  0.15116279,\n",
       "         0.10638298,  0.07894737]])"
      ]
     },
     "execution_count": 57,
     "metadata": {},
     "output_type": "execute_result"
    }
   ],
   "source": [
    "mo_counts"
   ]
  },
  {
   "cell_type": "code",
   "execution_count": 59,
   "metadata": {},
   "outputs": [
    {
     "data": {
      "text/plain": [
       "array([ 0.06358307,  0.08426389,  0.04560527,  0.05019758,  0.03124786,\n",
       "        0.05546441,  0.02801657,  0.04643861,  0.03692281,  0.08629321,\n",
       "        0.06517546,  0.11379033])"
      ]
     },
     "execution_count": 59,
     "metadata": {},
     "output_type": "execute_result"
    }
   ],
   "source": [
    "avg_counts = np.mean(mo_counts, axis=0)\n",
    "avg_counts"
   ]
  },
  {
   "cell_type": "code",
   "execution_count": null,
   "metadata": {
    "collapsed": true
   },
   "outputs": [],
   "source": []
  },
  {
   "cell_type": "code",
   "execution_count": 47,
   "metadata": {},
   "outputs": [
    {
     "name": "stderr",
     "output_type": "stream",
     "text": [
      "/Users/lizberg/anaconda2/envs/py36/lib/python3.6/site-packages/ipykernel_launcher.py:10: SettingWithCopyWarning: \n",
      "A value is trying to be set on a copy of a slice from a DataFrame.\n",
      "Try using .loc[row_indexer,col_indexer] = value instead\n",
      "\n",
      "See the caveats in the documentation: http://pandas.pydata.org/pandas-docs/stable/indexing.html#indexing-view-versus-copy\n",
      "  # Remove the CWD from sys.path while we load stuff.\n"
     ]
    }
   ],
   "source": [
    "food = 'chocolate'\n",
    "porter = PorterStemmer()\n",
    "food_stem = porter.stem(food.lower())\n",
    "dates = df.loc[[i for i in df.index if food_stem in df.loc[i, 'food_stems']], ['id', 'post_date']]\n",
    "dates.index = dates['post_date']\n",
    "dates['food_counts'] = np.ones(len(dates))\n",
    "\n",
    "dates_all = df[['id', 'post_date']]\n",
    "dates_all.index = dates_all['post_date']\n",
    "dates_all['total_counts'] = np.ones(len(dates_all))\n",
    "\n",
    "months = np.array(range(1, 13))\n",
    "mo_counts = np.zeros((len(range(2009, 2018)), len(months)))\n",
    "mo_counts_all = np.zeros((len(range(2009, 2018)), len(months)))\n",
    "\n",
    "for i, year in enumerate(range(2009, 2018)):\n",
    "    year = str(year)\n",
    "    d1 = dates[year].resample('1M').sum()\n",
    "    d2 = dates_all[year].resample('1M').sum()\n",
    "    counts = d1[['food_counts']].join(d2[['total_counts']], how='left')\n",
    "    counts.fillna(0, inplace=True)\n",
    "    counts['percentage'] = counts['food_counts'] / counts['total_counts']\n",
    "    counts['mos'] = [date.month for date in counts['food_counts'].index]\n",
    "    mo_counts[i][counts['mos'] -1] = counts['percentage']"
   ]
  },
  {
   "cell_type": "code",
   "execution_count": 48,
   "metadata": {},
   "outputs": [
    {
     "data": {
      "text/plain": [
       "array([[ 0.        ,  0.        ,  0.        ,  0.        ,  0.        ,\n",
       "         0.        ,  0.        ,  0.        ,  0.02325581,  0.11904762,\n",
       "         0.        ,  0.17241379],\n",
       "       [ 0.04255319,  0.025     ,  0.05172414,  0.        ,  0.        ,\n",
       "         0.        ,  0.        ,  0.        ,  0.        ,  0.        ,\n",
       "         0.04444444,  0.08163265],\n",
       "       [ 0.04545455,  0.24390244,  0.025     ,  0.06      ,  0.01818182,\n",
       "         0.11111111,  0.        ,  0.02564103,  0.        ,  0.13043478,\n",
       "         0.        ,  0.07142857],\n",
       "       [ 0.        ,  0.22727273,  0.        ,  0.12      ,  0.        ,\n",
       "         0.08108108,  0.        ,  0.06451613,  0.03448276,  0.        ,\n",
       "         0.0625    ,  0.07142857],\n",
       "       [ 0.02857143,  0.05714286,  0.0625    ,  0.04081633,  0.10416667,\n",
       "         0.06521739,  0.04545455,  0.06349206,  0.01666667,  0.08219178,\n",
       "         0.03030303,  0.14545455],\n",
       "       [ 0.0483871 ,  0.06153846,  0.12068966,  0.02985075,  0.04464286,\n",
       "         0.01587302,  0.02197802,  0.05384615,  0.06944444,  0.06930693,\n",
       "         0.08974359,  0.17924528],\n",
       "       [ 0.05813953,  0.0462963 ,  0.03636364,  0.07407407,  0.04098361,\n",
       "         0.08510638,  0.10576923,  0.05813953,  0.09      ,  0.09722222,\n",
       "         0.12820513,  0.09090909],\n",
       "       [ 0.12962963,  0.04166667,  0.06153846,  0.09      ,  0.02325581,\n",
       "         0.08196721,  0.07894737,  0.06140351,  0.07142857,  0.12727273,\n",
       "         0.125     ,  0.13265306],\n",
       "       [ 0.2195122 ,  0.05555556,  0.05263158,  0.03703704,  0.05      ,\n",
       "         0.05882353,  0.        ,  0.09090909,  0.02702703,  0.15116279,\n",
       "         0.10638298,  0.07894737]])"
      ]
     },
     "execution_count": 48,
     "metadata": {},
     "output_type": "execute_result"
    }
   ],
   "source": [
    "mo_counts"
   ]
  },
  {
   "cell_type": "code",
   "execution_count": 30,
   "metadata": {},
   "outputs": [
    {
     "data": {
      "text/html": [
       "<div>\n",
       "<style scoped>\n",
       "    .dataframe tbody tr th:only-of-type {\n",
       "        vertical-align: middle;\n",
       "    }\n",
       "\n",
       "    .dataframe tbody tr th {\n",
       "        vertical-align: top;\n",
       "    }\n",
       "\n",
       "    .dataframe thead th {\n",
       "        text-align: right;\n",
       "    }\n",
       "</style>\n",
       "<table border=\"1\" class=\"dataframe\">\n",
       "  <thead>\n",
       "    <tr style=\"text-align: right;\">\n",
       "      <th></th>\n",
       "      <th>id</th>\n",
       "      <th>food_counts</th>\n",
       "    </tr>\n",
       "    <tr>\n",
       "      <th>post_date</th>\n",
       "      <th></th>\n",
       "      <th></th>\n",
       "    </tr>\n",
       "  </thead>\n",
       "  <tbody>\n",
       "    <tr>\n",
       "      <th>2009-09-30</th>\n",
       "      <td>4781.0</td>\n",
       "      <td>1.0</td>\n",
       "    </tr>\n",
       "    <tr>\n",
       "      <th>2009-10-31</th>\n",
       "      <td>23718.0</td>\n",
       "      <td>5.0</td>\n",
       "    </tr>\n",
       "    <tr>\n",
       "      <th>2009-11-30</th>\n",
       "      <td>NaN</td>\n",
       "      <td>NaN</td>\n",
       "    </tr>\n",
       "    <tr>\n",
       "      <th>2009-12-31</th>\n",
       "      <td>23387.0</td>\n",
       "      <td>5.0</td>\n",
       "    </tr>\n",
       "  </tbody>\n",
       "</table>\n",
       "</div>"
      ],
      "text/plain": [
       "                 id  food_counts\n",
       "post_date                       \n",
       "2009-09-30   4781.0          1.0\n",
       "2009-10-31  23718.0          5.0\n",
       "2009-11-30      NaN          NaN\n",
       "2009-12-31  23387.0          5.0"
      ]
     },
     "execution_count": 30,
     "metadata": {},
     "output_type": "execute_result"
    }
   ],
   "source": [
    "d1"
   ]
  },
  {
   "cell_type": "code",
   "execution_count": 31,
   "metadata": {},
   "outputs": [
    {
     "data": {
      "text/html": [
       "<div>\n",
       "<style scoped>\n",
       "    .dataframe tbody tr th:only-of-type {\n",
       "        vertical-align: middle;\n",
       "    }\n",
       "\n",
       "    .dataframe tbody tr th {\n",
       "        vertical-align: top;\n",
       "    }\n",
       "\n",
       "    .dataframe thead th {\n",
       "        text-align: right;\n",
       "    }\n",
       "</style>\n",
       "<table border=\"1\" class=\"dataframe\">\n",
       "  <thead>\n",
       "    <tr style=\"text-align: right;\">\n",
       "      <th></th>\n",
       "      <th>id</th>\n",
       "      <th>total_counts</th>\n",
       "    </tr>\n",
       "    <tr>\n",
       "      <th>post_date</th>\n",
       "      <th></th>\n",
       "      <th></th>\n",
       "    </tr>\n",
       "  </thead>\n",
       "  <tbody>\n",
       "    <tr>\n",
       "      <th>2009-06-30</th>\n",
       "      <td>39044</td>\n",
       "      <td>8.0</td>\n",
       "    </tr>\n",
       "    <tr>\n",
       "      <th>2009-07-31</th>\n",
       "      <td>131301</td>\n",
       "      <td>27.0</td>\n",
       "    </tr>\n",
       "    <tr>\n",
       "      <th>2009-08-31</th>\n",
       "      <td>169120</td>\n",
       "      <td>35.0</td>\n",
       "    </tr>\n",
       "    <tr>\n",
       "      <th>2009-09-30</th>\n",
       "      <td>206099</td>\n",
       "      <td>43.0</td>\n",
       "    </tr>\n",
       "    <tr>\n",
       "      <th>2009-10-31</th>\n",
       "      <td>199521</td>\n",
       "      <td>42.0</td>\n",
       "    </tr>\n",
       "    <tr>\n",
       "      <th>2009-11-30</th>\n",
       "      <td>193069</td>\n",
       "      <td>41.0</td>\n",
       "    </tr>\n",
       "    <tr>\n",
       "      <th>2009-12-31</th>\n",
       "      <td>135546</td>\n",
       "      <td>29.0</td>\n",
       "    </tr>\n",
       "  </tbody>\n",
       "</table>\n",
       "</div>"
      ],
      "text/plain": [
       "                id  total_counts\n",
       "post_date                       \n",
       "2009-06-30   39044           8.0\n",
       "2009-07-31  131301          27.0\n",
       "2009-08-31  169120          35.0\n",
       "2009-09-30  206099          43.0\n",
       "2009-10-31  199521          42.0\n",
       "2009-11-30  193069          41.0\n",
       "2009-12-31  135546          29.0"
      ]
     },
     "execution_count": 31,
     "metadata": {},
     "output_type": "execute_result"
    }
   ],
   "source": [
    "d2"
   ]
  },
  {
   "cell_type": "code",
   "execution_count": 41,
   "metadata": {},
   "outputs": [],
   "source": [
    "d1.join?"
   ]
  },
  {
   "cell_type": "code",
   "execution_count": null,
   "metadata": {
    "collapsed": true
   },
   "outputs": [],
   "source": []
  }
 ],
 "metadata": {
  "kernelspec": {
   "display_name": "Python 3",
   "language": "python",
   "name": "python3"
  },
  "language_info": {
   "codemirror_mode": {
    "name": "ipython",
    "version": 3
   },
   "file_extension": ".py",
   "mimetype": "text/x-python",
   "name": "python",
   "nbconvert_exporter": "python",
   "pygments_lexer": "ipython3",
   "version": "3.6.3"
  }
 },
 "nbformat": 4,
 "nbformat_minor": 2
}
